{
 "cells": [
  {
   "cell_type": "markdown",
   "metadata": {},
   "source": [
    "# **Neural Networks: Deep Learning, Transfer Learning and TensorFlow 2**"
   ]
  },
  {
   "cell_type": "markdown",
   "metadata": {},
   "source": [
    "[Google Colab](https://colab.research.google.com/notebooks/intro.ipynb#recent=true)\n",
    "\n",
    "- alternative to jupyter notebook"
   ]
  },
  {
   "cell_type": "markdown",
   "metadata": {},
   "source": [
    "[TensorFlow](https://www.tensorflow.org/)\n",
    "\n",
    "- a deep learning or numerical computing library\n",
    "- use for unstructured data - Photos, Audio waves, natural language text\n",
    "\n",
    "Why TensorFlow ?\n",
    "\n",
    "- Write fast deep learning code in Python (able to run on a GPU)\n",
    "- Able to access many pre-built deep learning models\n",
    "- Whole stack: preprocess, model, deploy\n",
    "- Originally designed and used in-house by Google (now open-source)"
   ]
  },
  {
   "cell_type": "markdown",
   "metadata": {},
   "source": [
    "Choosing a model (throwback)\n",
    "\n",
    "- Problem 1 (structured data) -> Choose a Model\n",
    "  - CatBoost, dmlc XGBoost, Random Forest\n",
    "- Problem 2 (unstructured data) -> Choose a Model\n",
    "  - Deep Learning use TensorFlow\n",
    "  - Transfer Learning use TensorFlow Hub"
   ]
  },
  {
   "cell_type": "markdown",
   "metadata": {},
   "source": [
    "What is deep learning?\n",
    "\n",
    "- another form of machine learning\n",
    "\n",
    "What are neural networks?\n",
    "\n",
    "- type of machine learning algorithm for deep learning"
   ]
  },
  {
   "cell_type": "markdown",
   "metadata": {},
   "source": [
    "What kind of deep learning problems are there?\n",
    "\n",
    "- Classification\n",
    "  - multi-classification of dog breed\n",
    "  - classification of spam email\n",
    "- Sequence to sequence (seq2seq)\n",
    "  - audio to text translation\n",
    "- Object detection"
   ]
  },
  {
   "cell_type": "markdown",
   "metadata": {},
   "source": [
    "What is transfer learning? Why use transfer learning?\n",
    "\n",
    "- Take what you know in one domain and apply it to another.\n",
    "- Starting from scratch can be expensive and time consuming.\n",
    "- Why not take advantage of what’s already out there?"
   ]
  },
  {
   "cell_type": "markdown",
   "metadata": {},
   "source": [
    " A TensorFlow workflow\n",
    "\n",
    "- Get the data ready (turn into Tensors)\n",
    "  - An end-to-end multi-class classification workflow with TensorFlow Preprocessing image data (getting it into Tensors)\n",
    "- Pick a model from TensorFlow Hub\n",
    "  - Choosing a deep learning model\n",
    "- Fit the model to the data and make a prediction\n",
    "  - Fitting a model to the data (learning patterns)\n",
    "  - Making predictions with a model (using patterns)\n",
    "- Evaluate the model\n",
    "  - Evaluating model predictions\n",
    "- Improve through experimentation\n",
    "- Save and reload your trained model\n",
    "  - Saving and loading models\n",
    "- Using a trained model to make predictions on custom data"
   ]
  },
  {
   "cell_type": "code",
   "execution_count": null,
   "metadata": {},
   "outputs": [],
   "source": []
  },
  {
   "cell_type": "code",
   "execution_count": null,
   "metadata": {},
   "outputs": [],
   "source": []
  }
 ],
 "metadata": {
  "kernelspec": {
   "display_name": "Python 3.10.4 64-bit",
   "language": "python",
   "name": "python3"
  },
  "language_info": {
   "name": "python",
   "version": "3.10.4"
  },
  "orig_nbformat": 4,
  "vscode": {
   "interpreter": {
    "hash": "20ac7aad763b689ebdaff2f53a3073c7ed55a0f51860968fbf5603f714378c4e"
   }
  }
 },
 "nbformat": 4,
 "nbformat_minor": 2
}
