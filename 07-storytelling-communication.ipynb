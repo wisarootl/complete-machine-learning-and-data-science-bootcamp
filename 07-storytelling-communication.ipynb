{
 "cells": [
  {
   "cell_type": "markdown",
   "metadata": {},
   "source": [
    "## **Section 15: Storytelling + Communication: How To Present Your Work**"
   ]
  },
  {
   "cell_type": "markdown",
   "metadata": {},
   "source": [
    "- [How to Think About Communicating and Sharing Your Work](https://www.mrdbourke.com/how-to-think-about-communicating-and-sharing-your-work/)\n",
    "\n",
    "Now you’ve got skills, what do you do next?\n",
    "The most important question you can ask\n",
    "\n",
    "- “Who’s it for?”\n",
    "- What questions will they have?\n",
    "- What concerns can you address before they arise?\n",
    "- Heard but not understood\n",
    "- Heard and (potentially) understood"
   ]
  },
  {
   "cell_type": "markdown",
   "metadata": {},
   "source": [
    "“Who’s it for?”\n",
    "\n",
    "- People on your team: Boss, Project manager and Teammates\n",
    "- People outside your team: Clients, Customers and Fans"
   ]
  },
  {
   "cell_type": "markdown",
   "metadata": {},
   "source": [
    "### Communicating With Managers"
   ]
  },
  {
   "cell_type": "markdown",
   "metadata": {},
   "source": [
    "“Who’s it for?”\n",
    "“What do they need to know?”\n",
    "\n",
    "- How the project is going\n",
    "- What’s in the way\n",
    "- What you’ve done\n",
    "- What you’re doing next\n",
    "- Why you’re doing something next\n",
    "- Who else could help\n",
    "- What’s not needed Where you’re stuck\n",
    "- What’s not clear What questions do have\n",
    "- Are you still working towards the right thing\n",
    "- Is there any feedback or advice\n",
    "\n",
    "Example: The Project Manager, Boss, Senior, Lead\n",
    "\n",
    "- What’s holding you back?"
   ]
  },
  {
   "cell_type": "markdown",
   "metadata": {},
   "source": [
    "### Communicating With Co-Workers"
   ]
  },
  {
   "cell_type": "markdown",
   "metadata": {},
   "source": [
    "The People You’re Working With, Sitting Next to, in the Group Chat\n",
    "\n",
    "Break it down\n",
    "\n",
    "- 6-month project\n",
    "- 4-week month\n",
    "- 5-day week\n",
    "\n",
    "What did you work on today?\n",
    "\n",
    "- What I worked on today (1-3 points on what you did):\n",
    "  - What’s working?\n",
    "  - What’s not working?\n",
    "  - What could be improved?\n",
    "- What I’m working on next:\n",
    "  - What’s your next course of action? (based on the above)\n",
    "  - Why?\n",
    "  - What’s holding you back?\n",
    "\n",
    "- Relate back to overall project goal\n",
    "- Take note of overlaps"
   ]
  },
  {
   "cell_type": "markdown",
   "metadata": {},
   "source": [
    "### Weekend Project Principle"
   ]
  },
  {
   "cell_type": "markdown",
   "metadata": {},
   "source": [
    "Start the job before you have it\n",
    "The weekend project principle\n",
    "\n",
    "- What you work on in your own time\n",
    "- Work on your own projects to build specific knowledge\n",
    "- Compound knowledge that you learn courses into skill which can't be taught in courses\n",
    "\n",
    "How?\n",
    "\n",
    "- Documented on your blog\n",
    "- 6-week project"
   ]
  },
  {
   "cell_type": "markdown",
   "metadata": {},
   "source": [
    "### Communicating With Outside World"
   ]
  },
  {
   "cell_type": "markdown",
   "metadata": {},
   "source": [
    "People outside your team: Clients, Customers and Fans\n",
    "\n",
    "- Obvious to you, amazing to others"
   ]
  },
  {
   "cell_type": "markdown",
   "metadata": {},
   "source": [
    "### Storytelling"
   ]
  },
  {
   "cell_type": "markdown",
   "metadata": {},
   "source": [
    "What story are you trying to tell?\n",
    "Always ask, Who’s it for?\n",
    "\n",
    "- “Who’s it for?”\n",
    "- “What do they need to know?” = Specific = Courage\n",
    "  Write it down\n",
    "- What did you work on today?\n",
    "- What are you working this week?\n",
    "  Progress, not perfection\n",
    "- “Here’s what I’ve done.”"
   ]
  }
 ],
 "metadata": {
  "kernelspec": {
   "display_name": "Python 3.10.4 64-bit",
   "language": "python",
   "name": "python3"
  },
  "language_info": {
   "name": "python",
   "version": "3.10.4"
  },
  "orig_nbformat": 4,
  "vscode": {
   "interpreter": {
    "hash": "20ac7aad763b689ebdaff2f53a3073c7ed55a0f51860968fbf5603f714378c4e"
   }
  }
 },
 "nbformat": 4,
 "nbformat_minor": 2
}
