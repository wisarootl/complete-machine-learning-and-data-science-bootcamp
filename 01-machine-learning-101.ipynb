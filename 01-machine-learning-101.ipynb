{
 "cells": [
  {
   "cell_type": "markdown",
   "metadata": {},
   "source": [
    "# Table of Contents\n",
    "\n",
    "- [Machine Learning 101](#machine-learning-101)\n",
    "- [Machine Learning Framework](#machine-learning-framework)\n",
    "- [Environment Setup](#environment-setup)"
   ]
  },
  {
   "cell_type": "markdown",
   "metadata": {},
   "source": [
    "# Machine Learning 101"
   ]
  },
  {
   "cell_type": "markdown",
   "metadata": {},
   "source": [
    "Machine Learning : Computer learn from data\n",
    "- Supervised : Classification, Regression\n",
    "- Unsupervised : Clustering, Association Rule Learning \n",
    "- Reinforcement : Skill Acquisition, Real-Time Learning"
   ]
  },
  {
   "cell_type": "markdown",
   "metadata": {},
   "source": [
    "# Machine Learning Framework"
   ]
  },
  {
   "cell_type": "markdown",
   "metadata": {},
   "source": [
    "1. Problem definition\n",
    "   - Supervised or Unsupervised\n",
    "   - Classification or Regression\n",
    "2. Data\n",
    "   - Structured, Unstructured\n",
    "3. Evaluation\n",
    "   - what is success for us?\n",
    "4. Features\n",
    "   - What we already know about the data?\n",
    "5. Modelling\n",
    "   - Based on our problem and data, what model should we use?\n",
    "6. Experimentation\n",
    "   - How could we improve?"
   ]
  },
  {
   "cell_type": "markdown",
   "metadata": {},
   "source": [
    "### 1. Problem definition\n",
    "\n",
    "Main types of machine learning\n",
    "- Supervised Learning\n",
    "  - Data and labels\n",
    "  - Classification\n",
    "    - Binary Classification\n",
    "    - Multi-class classification\n",
    "  - Regression : predict a number\n",
    "\n",
    "- Unsupervised Learning\n",
    "  - Data without label\n",
    "\n",
    "\n",
    "- Transfer Learning\n",
    "  - leverages what one machine learning model has learned in another machine learning model\n",
    "\n",
    "- Reinforcement Learning\n",
    "  - a computer program perform some actions within a defined space and rewarding it for doing it well or punishing it for doing poorly"
   ]
  },
  {
   "cell_type": "markdown",
   "metadata": {},
   "source": [
    "### 2. Data\n",
    "\n",
    "Different types of data\n",
    "- Structured \n",
    "- Unstructured : image, audio, natural language text\n",
    "\n",
    "- Static : doesn't change over time\n",
    "- Streaming : data which is constantly changed over time\n",
    "\n"
   ]
  },
  {
   "cell_type": "markdown",
   "metadata": {},
   "source": [
    "### 3. Evaluation\n",
    "\n",
    "What defines success for us?\n",
    "- Classification : Accuracy, Precision, Recall\n",
    "- Regression : Mean Absolute Error (MAE), Mean Squared Error (MSE), Root  Mean Squared Error (RMSE)\n",
    "- Recommendation : Precision at K"
   ]
  },
  {
   "cell_type": "markdown",
   "metadata": {},
   "source": [
    "### 4. Features\n",
    "\n",
    "What do we already know about the data?\n",
    "\n",
    "- Numerical features\n",
    "- Categorical features\n",
    "\n",
    "- Derived features (from feature engineering)\n",
    "- Feature Coverage = 1 - (# of missing values / # of examples)"
   ]
  },
  {
   "cell_type": "markdown",
   "metadata": {},
   "source": [
    "### 5. Modeling\n",
    "#### 5.1 Splitting Data\n",
    "Based on our problem and data, what model should we use?\n",
    "\n",
    "1. Choosing and training model\n",
    "2. Tuning model\n",
    "3. Model comparison\n",
    "\n",
    "\n",
    "3 sets : training set (70-80%), validation set (10-15%), and test set (10-15%)\n",
    "\n",
    "Generalization : the ability for a machine learning model to perform well on data it hasn't seen before\n",
    "\n",
    "#### 5.2 Choosing the model\n",
    "- Structured Data : try tree-based model first\n",
    "- Unstructured Data : try deep learning, transfer learning\n",
    "\n",
    "- start with small amount of example first to minimize time between experiments\n",
    "- Things to remember\n",
    "  - Some models work better than others and different problems\n",
    "  - Don't be afraid to try things\n",
    "  - Start small and build up (add complexity) as you need.\n",
    "\n",
    "#### 5.3 Tuning\n",
    "- Things to remember\n",
    "  - Machine learning models have hyper parameters you can adjust (Tuning)\n",
    "  - A model first results are not it's last\n",
    "  - Tuning can take place on training or validation data sets\n",
    "\n",
    "#### 5.4 Model Comparison\n",
    "- Overfitting vs. Underfitting\n",
    "\n",
    "- Solving Underfitting\n",
    "  - try a more advanced model\n",
    "  - increase model hyperparameters\n",
    "  - reduce amount of features\n",
    "  - train longer\n",
    "\n",
    "- Solving overfitting\n",
    "  - collect more data\n",
    "  - try a less advanced model\n",
    "\n",
    "- Things to remember\n",
    "  - avoid overfitting or underfitting. head towards generality\n",
    "  - keep the test set separate at all costs\n",
    "  - compare apples to apples (diff model, same dataset)\n",
    "  - ont best performance metric does not equal best model"
   ]
  },
  {
   "cell_type": "markdown",
   "metadata": {},
   "source": [
    "### 6. Experimentation\n",
    "\n",
    "How could we improve / what can we try next?\n",
    "  - Start with a problem\n",
    "  - Data Analysis: Data, Evaluation, Features\n",
    "  - Machine learning modelling: Model 1\n",
    "  - Experiments: Try model 2\n",
    "6 Step Machine Learning Framework questions\n",
    "  - Problem definition: What kind of problems you face day to day?\n",
    "  - Data: What kind of data do you use?\n",
    "  - Evaluation: What do you measure?\n",
    "  - Features: What are features of your problems?\n",
    "  - Modelling: What was the last thing you testing ability on?"
   ]
  },
  {
   "cell_type": "markdown",
   "metadata": {},
   "source": [
    "# Environment Setup"
   ]
  },
  {
   "cell_type": "markdown",
   "metadata": {},
   "source": [
    "Tools We Will Use\n",
    "- Data Science: 6 Step Machine Learning Framework\n",
    "- Data Science: [Anaconda](https://www.anaconda.com/), [Jupyter Notebook](https://jupyter.org/)\n",
    "- Data Analysis: Data, Evaluation and Features\n",
    "- Data Analysis:[pandas](https://pandas.pydata.org/), [Matplotlib](https://matplotlib.org/), [NumPy](https://numpy.org/)\n",
    "- Machine Learning: Modelling\n",
    "- Machine Learning: [TensorFlow](https://www.tensorflow.org/), [PyTorch](https://pytorch.org/), [scikit-learn](https://scikit-learn.org/stable/), [XGBoost](https://xgboost.ai/), [CatBoost](https://catboost.ai/)\n",
    "- [Elements of AI](https://www.elementsofai.com/)"
   ]
  },
  {
   "cell_type": "markdown",
   "metadata": {},
   "source": [
    "### Introducing Our Tools\n",
    "\n",
    "- Steps to learn machine learning [Recall]\n",
    "  - Create a framework [Done] Refer to Section 3\n",
    "  - Match to data science and machine learning tools\n",
    "  - Learn by doing\n",
    "- Your computer -> Setup Miniconda + Conda for Data Science\n",
    "  - [Anaconda](https://www.anaconda.com/): Hardware Store = 3GB\n",
    "  - [Miniconda](https://docs.conda.io/en/latest/miniconda.html): Workbench = 200 MB\n",
    "  - [Anaconda vs. miniconda](https://stackoverflow.com/questions/45421163/anaconda-vs-miniconda)\n",
    "  - [Conda](https://docs.conda.io/en/latest/): Personal Assistant\n",
    "- Conda -> setup the rest of tools\n",
    "  - Data Analysis: [pandas](https://pandas.pydata.org/), [Matplotlib](https://matplotlib.org/), [NumPy](https://numpy.org/)\n",
    "  - Machine Learning: [TensorFlow](https://www.tensorflow.org/), [PyTorch](https://pytorch.org/), [scikit-learn](https://scikit-learn.org/stable/), [XGBoost](https://xgboost.ai/), [CatBoost](https://catboost.ai/)"
   ]
  },
  {
   "cell_type": "markdown",
   "metadata": {},
   "source": [
    "### What is Conda?\n",
    "\n",
    "- [Anaconda](https://www.anaconda.com/): Software Distributions (Full package, 3GB)\n",
    "- [Miniconda](https://docs.conda.io/en/latest/miniconda.html): Software Distributions (Essential package, 200 MB)\n",
    "- [Anaconda vs. miniconda](https://stackoverflow.com/questions/45421163/anaconda-vs-miniconda)\n",
    "- [Conda](https://docs.conda.io/en/latest/): Package Manager\n",
    "- Your computer -> Miniconda + Conda -> install other tools\n",
    "  - Data Analysis:[pandas](https://pandas.pydata.org/), [Matplotlib](https://matplotlib.org/), [NumPy](https://numpy.org/)\n",
    "  - Machine Learning: [TensorFlow](https://www.tensorflow.org/), [PyTorch](https://pytorch.org/), [scikit-learn](https://scikit-learn.org/stable/), [XGBoost](https://xgboost.ai/), [CatBoost](https://catboost.ai/)\n",
    "- Conda -> Project 1: sample-project\n",
    "- Resources\n",
    "  - [Conda Cheatsheet](conda-cheatsheet.pdf)\n",
    "  - [Getting started with conda](https://docs.conda.io/projects/conda/en/latest/user-guide/getting-started.html)\n",
    "  - [Getting your computer ready for machine learning](https://www.mrdbourke.com/get-your-computer-ready-for-machine-learning-using-anaconda-miniconda-and-conda/)"
   ]
  },
  {
   "cell_type": "markdown",
   "metadata": {},
   "source": [
    "### Mac Environment Setup\n",
    "\n",
    "- Resources\n",
    "  - [Getting Started Anaconda, Miniconda and Conda](https://whimsical.com/BD751gt65nKjAD5i1CNEXU)\n",
    "  - [Miniconda installers](https://docs.conda.io/en/latest/miniconda.html) - Choose latest pkg version\n",
    "- Create conda environment: goto [sample-project](https://github.com/chesterheng/machine-learning-data-science/tree/sample-project) folder\n",
    "  - `conda create --prefix ./env pandas numpy matplotlib scikit-learn`\n",
    "- Activate conda environment: `conda activate /Users/xxx/Desktop/sample-project/env`\n",
    "- List Conda environments: `conda env list`\n",
    "  - `cd ~/.conda` -> `environments.txt`\n",
    "- Deactivate conda environment: `conda deactivate`\n",
    "- Install Jupyter: `conda install jupyter`\n",
    "- Run Jupyter Notebook: `jupyter notebook`\n",
    "- Remove packages: `conda remove openpyxl xlrd`\n",
    "- List all packages: `conda list`"
   ]
  },
  {
   "cell_type": "markdown",
   "metadata": {},
   "source": [
    "### Sharing\n",
    "\n",
    "- Share a .yml file of your Conda environment: `conda env export --prefix ./env > environment.yml`\n",
    "  - [Sharing an environment](https://docs.conda.io/projects/conda/en/latest/user-guide/tasks/manage-environments.html#sharing-an-environment)\n",
    "- Create an environment called env_from_file from a .yml file: `conda env create --file environment.yml --name env_from_file`\n",
    "  - [Creating an environment from an environment.yml file](https://docs.conda.io/projects/conda/en/latest/user-guide/tasks/manage-environments.html#creating-an-environment-from-an-environment-yml-file)"
   ]
  }
 ],
 "metadata": {
  "kernelspec": {
   "display_name": "Python 3.10.4 64-bit",
   "language": "python",
   "name": "python3"
  },
  "language_info": {
   "codemirror_mode": {
    "name": "ipython",
    "version": 3
   },
   "file_extension": ".py",
   "mimetype": "text/x-python",
   "name": "python",
   "nbconvert_exporter": "python",
   "pygments_lexer": "ipython3",
   "version": "3.10.4"
  },
  "orig_nbformat": 4,
  "vscode": {
   "interpreter": {
    "hash": "20ac7aad763b689ebdaff2f53a3073c7ed55a0f51860968fbf5603f714378c4e"
   }
  }
 },
 "nbformat": 4,
 "nbformat_minor": 2
}
